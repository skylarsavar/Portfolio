{
 "cells": [
  {
   "cell_type": "markdown",
   "id": "aee7ac67",
   "metadata": {},
   "source": [
    "# Overview\n",
    "\n",
    "Transform 1 and 2-dimensional data in Python Lists and Dictionaries into Numpy Arrays, Apply reshape, join, and split operations to Numpy arrays, and Apply aggregate functions like mean, average, product, median, standard deviation, variance to Numpy arrays leveraging the real world data of the Lakers starting players to calculate their BMIs. "
   ]
  },
  {
   "cell_type": "code",
   "execution_count": 35,
   "id": "77318eba",
   "metadata": {},
   "outputs": [],
   "source": [
    "# Import libraries\n",
    "\n",
    "import numpy as np\n",
    "import json"
   ]
  },
  {
   "cell_type": "code",
   "execution_count": 36,
   "id": "afd2a5ef",
   "metadata": {},
   "outputs": [],
   "source": [
    "# Read the data \n",
    "\n",
    "with open('./data.json','r', encoding='utf-8') as f:\n",
    "    bmi_data = json.loads(f.read())\n",
    "    \n",
    "with open('./efficiency_data.json','r', encoding='utf-8') as f:\n",
    "    stats_data = json.loads(f.read())"
   ]
  },
  {
   "cell_type": "code",
   "execution_count": 124,
   "id": "522d4977",
   "metadata": {},
   "outputs": [],
   "source": [
    "# Get the height of the Lakers  \n",
    "\n",
    "lakers_height = [value for data in bmi_data[\"Lakers\"] for key, value in data.items() if key==\"Height\"]\n",
    "lakers_weight = [value for data in bmi_data[\"Lakers\"] for key, value in data.items() if key==\"Weight\"]"
   ]
  },
  {
   "cell_type": "code",
   "execution_count": 68,
   "id": "6648aa21",
   "metadata": {},
   "outputs": [],
   "source": [
    "# Get the stats data for the Lakers\n",
    "\n",
    "pts = [value for data in stats_data[\"Lakers\"]for key, value in data.items() if key==\"PTS\"]\n",
    "reb = [value for data in stats_data[\"Lakers\"]for key, value in data.items() if key==\"REB\"]\n",
    "ast = [value for data in stats_data[\"Lakers\"]for key, value in data.items() if key==\"AST\"]\n",
    "stl = [value for data in stats_data[\"Lakers\"]for key, value in data.items() if key==\"STL\"]\n",
    "blk = [value for data in stats_data[\"Lakers\"]for key, value in data.items() if key==\"BLK\"]\n",
    "mfg = [value for data in stats_data[\"Lakers\"]for key, value in data.items() if key==\"FGM\"]\n",
    "mft = [value for data in stats_data[\"Lakers\"]for key, value in data.items() if key==\"FTM\"]\n",
    "tov = [value for data in stats_data[\"Lakers\"]for key, value in data.items() if key==\"TO\"]"
   ]
  },
  {
   "cell_type": "code",
   "execution_count": 70,
   "id": "3a07ab08",
   "metadata": {},
   "outputs": [],
   "source": [
    "# Convert all python lists into Numpy arrays\n",
    "\n",
    "lakers_height_array = np.array(lakers_height)\n",
    "lakers_weight_array = np.array(lakers_weight)\n",
    "pts_array = np.array(pts)\n",
    "reb_array = np.array(reb)\n",
    "ast_array = np.array(ast)\n",
    "stl_array = np.array(stl)\n",
    "blk_array = np.array(blk)\n",
    "mfg_array = np.array(mfg)\n",
    "mft_array = np.array(mft)\n",
    "tov_array = np.array(tov)"
   ]
  },
  {
   "cell_type": "code",
   "execution_count": 71,
   "id": "aabdd5f7",
   "metadata": {},
   "outputs": [
    {
     "name": "stdout",
     "output_type": "stream",
     "text": [
      "[[1 1 1]\n",
      " [1 1 1]]\n"
     ]
    }
   ],
   "source": [
    "example_2d = [[1,1,1],[1,1,1]]\n",
    "print(np.array(example_2d))"
   ]
  },
  {
   "cell_type": "code",
   "execution_count": 72,
   "id": "32de6f57",
   "metadata": {},
   "outputs": [],
   "source": [
    "# Convert imperial data to metrics \n",
    "\n",
    "# Convert pounds to kilograms\n",
    "\n",
    "lakers_weight_kg = lakers_weight_array * 0.454\n",
    "\n",
    "# Convert inches to centimeters \n",
    "\n",
    "lakers_height_cm = lakers_height_array * 2.54"
   ]
  },
  {
   "cell_type": "code",
   "execution_count": 73,
   "id": "20bfbc61",
   "metadata": {},
   "outputs": [],
   "source": [
    "# BMI Calculator \n",
    "# system parameter is a string that states whether metric or imperial system\n",
    "# metric (cm & kg)\n",
    "# imperial (in & lbs)\n",
    "\n",
    "def bmi_calculator(system, weight, height):\n",
    "    \"\"\"\n",
    "    This function calculates the BMI of NBA players using either the metric system or the imperial system\n",
    "    \"\"\"\n",
    "    BMI=None\n",
    "    if system == \"imperial\":\n",
    "        BMI = weight/(height**2)*703\n",
    "    \n",
    "    elif system == \"metric\":\n",
    "        BMI = weight/(height**2)*10000\n",
    "    return BMI\n"
   ]
  },
  {
   "cell_type": "code",
   "execution_count": 74,
   "id": "7362a1ad",
   "metadata": {},
   "outputs": [
    {
     "data": {
      "text/plain": [
       "array([23.74554325, 24.82894737, 24.8430309 , 26.78707514, 26.45136823])"
      ]
     },
     "execution_count": 74,
     "metadata": {},
     "output_type": "execute_result"
    }
   ],
   "source": [
    "bmi_calculator(\"imperial\", lakers_weight_array, lakers_height_array)"
   ]
  },
  {
   "cell_type": "code",
   "execution_count": 75,
   "id": "0853b840",
   "metadata": {},
   "outputs": [
    {
     "data": {
      "text/plain": [
       "array([23.769235  , 24.85372007, 24.86781765, 26.81380153, 26.47775968])"
      ]
     },
     "execution_count": 75,
     "metadata": {},
     "output_type": "execute_result"
    }
   ],
   "source": [
    "bmi_calculator(\"metric\", lakers_weight_kg, lakers_height_cm)"
   ]
  },
  {
   "cell_type": "code",
   "execution_count": 76,
   "id": "182e0be4",
   "metadata": {},
   "outputs": [],
   "source": [
    "# Get BMI for Warriors "
   ]
  },
  {
   "cell_type": "code",
   "execution_count": 77,
   "id": "e8c3aa78",
   "metadata": {},
   "outputs": [],
   "source": [
    "# Store the weights and heights into python lists\n",
    "\n",
    "gsw_height = [value for data in bmi_data[\"Golden State Warriors\"] for key, value in data.items() if key==\"Height\"]\n",
    "gsw_weight = [value for data in bmi_data[\"Golden State Warriors\"] for key, value in data.items() if key==\"Weight\"]\n",
    "\n",
    "\n",
    "# Convert list to Numpy arrays \n",
    "\n",
    "gsw_height_array = np.array(gsw_height)\n",
    "gsw_weight_array = np.array(gsw_weight)"
   ]
  },
  {
   "cell_type": "code",
   "execution_count": 78,
   "id": "db23cd69",
   "metadata": {},
   "outputs": [
    {
     "name": "stdout",
     "output_type": "stream",
     "text": [
      "[23.75       25.42077581 22.19051434 26.57626561 23.78692273]\n",
      "[23.7736962  25.44613899 22.21265458 26.60278167 23.81065576]\n"
     ]
    }
   ],
   "source": [
    "# Convert imperial data to metrics \n",
    "\n",
    "gsw_weight_kg = gsw_weight_array * 0.454\n",
    "gsw_height_cm = gsw_height_array * 2.54\n",
    "\n",
    "# Calculate BMI\n",
    "\n",
    "print(bmi_calculator(\"imperial\", gsw_weight_array, gsw_height_array))\n",
    "print(bmi_calculator(\"metric\", gsw_weight_kg, gsw_height_cm))"
   ]
  },
  {
   "cell_type": "markdown",
   "id": "f441bfed",
   "metadata": {},
   "source": [
    "### Calculate the Lakers player efficiency rates with Numpy\n",
    "\n",
    "(EFF) = (PTS + REB + AST + STL + BLK - MISSED FG - MISSED FT - TO)\n",
    "\n",
    "* PTS - number of points scored by player\n",
    "* REB - number of rebounds by player\n",
    "* AST - number of assists \n",
    "* STL - number of steals \n",
    "* BLK - number of blocks \n",
    "* MISSED FG - number of missed field goals \n",
    "* MISSED FT - number of missed free throws\n",
    "* TO - number of turn overs"
   ]
  },
  {
   "cell_type": "code",
   "execution_count": 79,
   "id": "ba311d82",
   "metadata": {},
   "outputs": [],
   "source": [
    "# Calculating player effciency \n",
    "\n",
    "# (EFF) = (PTS + REB + AST + STL + BLK - MISSED FG - MISSED FT - TO)\n",
    "\n",
    "lakers_player_efficiency = pts_array + reb_array + ast_array + stl_array + blk_array - mfg_array - mft_array - tov_array"
   ]
  },
  {
   "cell_type": "code",
   "execution_count": 81,
   "id": "03347494",
   "metadata": {},
   "outputs": [
    {
     "name": "stdout",
     "output_type": "stream",
     "text": [
      "[ 791  689  411 1776 1105]\n"
     ]
    }
   ],
   "source": [
    "# Player efficiency (higher = better)\n",
    "\n",
    "print(lakers_player_efficiency)"
   ]
  },
  {
   "cell_type": "markdown",
   "id": "e4b1e70a",
   "metadata": {},
   "source": [
    "### Calculate the Warriors starting five player efficiency rates"
   ]
  },
  {
   "cell_type": "code",
   "execution_count": 86,
   "id": "fac09210",
   "metadata": {},
   "outputs": [],
   "source": [
    "# Get GSW player stats\n",
    "\n",
    "pts = [value for data in stats_data[\"Golden State Warriors\"]for key, value in data.items() if key==\"PTS\"]\n",
    "reb = [value for data in stats_data[\"Golden State Warriors\"]for key, value in data.items() if key==\"REB\"]\n",
    "ast = [value for data in stats_data[\"Golden State Warriors\"]for key, value in data.items() if key==\"AST\"]\n",
    "stl = [value for data in stats_data[\"Golden State Warriors\"]for key, value in data.items() if key==\"STL\"]\n",
    "blk = [value for data in stats_data[\"Golden State Warriors\"]for key, value in data.items() if key==\"BLK\"]\n",
    "mfg = [value for data in stats_data[\"Golden State Warriors\"]for key, value in data.items() if key==\"FGM\"]\n",
    "mft = [value for data in stats_data[\"Golden State Warriors\"]for key, value in data.items() if key==\"FTM\"]\n",
    "tov = [value for data in stats_data[\"Golden State Warriors\"]for key, value in data.items() if key==\"TO\"]"
   ]
  },
  {
   "cell_type": "code",
   "execution_count": 87,
   "id": "687ae592",
   "metadata": {},
   "outputs": [],
   "source": [
    "# Convert to arrays \n",
    "\n",
    "pts_array = np.array(pts)\n",
    "reb_array = np.array(reb)\n",
    "ast_array = np.array(ast)\n",
    "stl_array = np.array(stl)\n",
    "blk_array = np.array(blk)\n",
    "mfg_array = np.array(mfg)\n",
    "mft_array = np.array(mft)\n",
    "tov_array = np.array(tov)"
   ]
  },
  {
   "cell_type": "code",
   "execution_count": 88,
   "id": "e04c2869",
   "metadata": {},
   "outputs": [
    {
     "name": "stdout",
     "output_type": "stream",
     "text": [
      "[1559  523 1128  821 1081]\n"
     ]
    }
   ],
   "source": [
    "# Calculating GSW startng five efficiency \n",
    "\n",
    "gsw_player_efficiency = pts_array + reb_array + ast_array + stl_array + blk_array - mfg_array - mft_array - tov_array\n",
    "print(gsw_player_efficiency)"
   ]
  },
  {
   "cell_type": "markdown",
   "id": "56633959",
   "metadata": {},
   "source": [
    "### Aggregate Functions Lakers"
   ]
  },
  {
   "cell_type": "code",
   "execution_count": 89,
   "id": "bcf3c060",
   "metadata": {},
   "outputs": [],
   "source": [
    "# Performing aggregate functions on Lakers starting five"
   ]
  },
  {
   "cell_type": "code",
   "execution_count": 90,
   "id": "ba7ba40a",
   "metadata": {},
   "outputs": [
    {
     "name": "stdout",
     "output_type": "stream",
     "text": [
      "390\n"
     ]
    }
   ],
   "source": [
    "# Summation \n",
    "\n",
    "print(np.sum(lakers_height_array))"
   ]
  },
  {
   "cell_type": "code",
   "execution_count": 91,
   "id": "35e811b0",
   "metadata": {},
   "outputs": [
    {
     "name": "stdout",
     "output_type": "stream",
     "text": [
      "1102\n"
     ]
    }
   ],
   "source": [
    "print(np.sum(lakers_weight_array))"
   ]
  },
  {
   "cell_type": "code",
   "execution_count": 93,
   "id": "90f45ec3",
   "metadata": {},
   "outputs": [
    {
     "name": "stdout",
     "output_type": "stream",
     "text": [
      "78.0\n",
      "220.4\n"
     ]
    }
   ],
   "source": [
    "# Average height and weight for Lakers starting five \n",
    "\n",
    "print(np.average(lakers_height_array))\n",
    "\n",
    "print(np.average(lakers_weight_array))"
   ]
  },
  {
   "cell_type": "code",
   "execution_count": 107,
   "id": "252c7f19",
   "metadata": {},
   "outputs": [
    {
     "name": "stdout",
     "output_type": "stream",
     "text": [
      "73\n",
      "82\n",
      "180\n",
      "253\n"
     ]
    }
   ],
   "source": [
    "# Minimum and maximum height and weight \n",
    "\n",
    "print(np.min(lakers_height_array))\n",
    "print(np.max(lakers_height_array))\n",
    "\n",
    "print(np.min(lakers_weight_array))\n",
    "print(np.max(lakers_weight_array))"
   ]
  },
  {
   "cell_type": "code",
   "execution_count": 95,
   "id": "19d27050",
   "metadata": {},
   "outputs": [
    {
     "name": "stdout",
     "output_type": "stream",
     "text": [
      "27.817979797246238\n",
      "3.286335345030997\n"
     ]
    }
   ],
   "source": [
    "# Caluculate the standard deviation \n",
    "\n",
    "print(lakers_weight_array.std())\n",
    "\n",
    "print(lakers_height_array.std())"
   ]
  },
  {
   "cell_type": "code",
   "execution_count": 96,
   "id": "4b29cabf",
   "metadata": {},
   "outputs": [
    {
     "name": "stdout",
     "output_type": "stream",
     "text": [
      "78.0\n",
      "81.0\n",
      "81.6\n"
     ]
    }
   ],
   "source": [
    "# Percentile for height\n",
    "\n",
    "print(np.percentile(lakers_height_array, 50)) # looking at 50th percentile\n",
    "\n",
    "print(np.percentile(lakers_height_array, 75)) # looking at 75th percentile\n",
    "\n",
    "print(np.percentile(lakers_height_array, 90)) # looking at 90th percentile"
   ]
  },
  {
   "cell_type": "code",
   "execution_count": 97,
   "id": "6df6c983",
   "metadata": {},
   "outputs": [
    {
     "name": "stdout",
     "output_type": "stream",
     "text": [
      "215.0\n",
      "250.0\n",
      "251.8\n"
     ]
    }
   ],
   "source": [
    "# Percentile for weight \n",
    "\n",
    "print(np.percentile(lakers_weight_array, 50)) # looking at 50th percentile\n",
    "\n",
    "print(np.percentile(lakers_weight_array, 75)) # looking at 75th percentile\n",
    "\n",
    "print(np.percentile(lakers_weight_array, 90)) # looking at 90th percentile"
   ]
  },
  {
   "cell_type": "markdown",
   "id": "4883575f",
   "metadata": {},
   "source": [
    "### Aggregate Functions Warriors"
   ]
  },
  {
   "cell_type": "code",
   "execution_count": 98,
   "id": "38cd2225",
   "metadata": {},
   "outputs": [
    {
     "name": "stdout",
     "output_type": "stream",
     "text": [
      "390\n",
      "1054\n"
     ]
    }
   ],
   "source": [
    "# Summation of GSW height and weight \n",
    "\n",
    "print(np.sum(gsw_height_array))\n",
    "\n",
    "print(np.sum(gsw_weight_array))"
   ]
  },
  {
   "cell_type": "code",
   "execution_count": 99,
   "id": "ea405693",
   "metadata": {},
   "outputs": [
    {
     "name": "stdout",
     "output_type": "stream",
     "text": [
      "78.0\n",
      "210.8\n"
     ]
    }
   ],
   "source": [
    "# Average for GSW height and weight \n",
    "\n",
    "print(np.average(gsw_height_array))\n",
    "\n",
    "print(np.average(gsw_weight_array))"
   ]
  },
  {
   "cell_type": "code",
   "execution_count": 106,
   "id": "e5297fc1",
   "metadata": {},
   "outputs": [
    {
     "name": "stdout",
     "output_type": "stream",
     "text": [
      "74\n",
      "81\n",
      "185\n",
      "230\n"
     ]
    }
   ],
   "source": [
    "# Min and max of GSW height and weight \n",
    "\n",
    "print(np.min(gsw_height_array))\n",
    "print(np.max(gsw_height_array))\n",
    "\n",
    "print(np.min(gsw_weight_array))\n",
    "print(np.max(gsw_weight_array))"
   ]
  },
  {
   "cell_type": "code",
   "execution_count": 103,
   "id": "74ba89fa",
   "metadata": {},
   "outputs": [
    {
     "name": "stdout",
     "output_type": "stream",
     "text": [
      "2.280350850198276\n",
      "16.939893742287758\n"
     ]
    }
   ],
   "source": [
    "# Standard deviation for height and weight \n",
    "\n",
    "print(np.std(gsw_height_array))\n",
    "\n",
    "print(np.std(gsw_weight_array))"
   ]
  },
  {
   "cell_type": "code",
   "execution_count": 105,
   "id": "4883f909",
   "metadata": {},
   "outputs": [
    {
     "name": "stdout",
     "output_type": "stream",
     "text": [
      "78.0\n",
      "78.0\n",
      "79.0\n",
      "197.0\n",
      "220.0\n",
      "222.0\n"
     ]
    }
   ],
   "source": [
    "# Percentile for GSW height and weight \n",
    "\n",
    "print(np.percentile(gsw_height_array, 25))\n",
    "print(np.percentile(gsw_height_array, 50))\n",
    "print(np.percentile(gsw_height_array, 75))\n",
    "\n",
    "print(np.percentile(gsw_weight_array, 25))\n",
    "print(np.percentile(gsw_weight_array, 50))\n",
    "print(np.percentile(gsw_weight_array, 75))"
   ]
  },
  {
   "cell_type": "markdown",
   "id": "00b239a3",
   "metadata": {},
   "source": [
    "### Calculate the efficiency of the top 10 highest paid players"
   ]
  },
  {
   "cell_type": "code",
   "execution_count": 110,
   "id": "b769c514",
   "metadata": {},
   "outputs": [],
   "source": [
    "# Get the BMI data for the top 10 highest paid players \n",
    "\n",
    "top10_height = [value for data in bmi_data[\"Top 10 Highest Paid NBA Players\"]for key, value in data.items() if key==\"Height\"]\n",
    "top10_weight = [value for data in bmi_data[\"Top 10 Highest Paid NBA Players\"]for key, value in data.items() if key==\"Weight\"]"
   ]
  },
  {
   "cell_type": "code",
   "execution_count": 111,
   "id": "3cc33e72",
   "metadata": {},
   "outputs": [],
   "source": [
    "# Get the stats data of the 10 highest paid players \n",
    "\n",
    "pts = [value for data in stats_data[\"Top 10 Highest Paid NBA Players\"]for key, value in data.items() if key==\"PTS\"]\n",
    "reb = [value for data in stats_data[\"Top 10 Highest Paid NBA Players\"]for key, value in data.items() if key==\"REB\"]\n",
    "ast = [value for data in stats_data[\"Top 10 Highest Paid NBA Players\"]for key, value in data.items() if key==\"AST\"]\n",
    "stl = [value for data in stats_data[\"Top 10 Highest Paid NBA Players\"]for key, value in data.items() if key==\"STL\"]\n",
    "blk = [value for data in stats_data[\"Top 10 Highest Paid NBA Players\"]for key, value in data.items() if key==\"BLK\"]\n",
    "mfg = [value for data in stats_data[\"Top 10 Highest Paid NBA Players\"]for key, value in data.items() if key==\"FGM\"]\n",
    "mft = [value for data in stats_data[\"Top 10 Highest Paid NBA Players\"]for key, value in data.items() if key==\"FTM\"]\n",
    "tov = [value for data in stats_data[\"Top 10 Highest Paid NBA Players\"]for key, value in data.items() if key==\"TO\"]"
   ]
  },
  {
   "cell_type": "code",
   "execution_count": 123,
   "id": "b1a116ec",
   "metadata": {},
   "outputs": [
    {
     "name": "stdout",
     "output_type": "stream",
     "text": [
      "Players\n",
      "['Lebron James', 'Russell Westbrook', 'Kevin Durant', 'James Harden', 'Stephen Curry', 'Damian Lillard', 'Paul George', 'Giannis Antetokounmpo', 'Klay Thompson']\n",
      "\n",
      "Imperial BMI in Order\n",
      "[26.78707514 24.99555556 25.09220702 26.08534323 23.75       24.90540541\n",
      " 24.165625   24.79735811 25.42077581]\n",
      "\n",
      "Metric BMI in Order\n",
      "[26.81380153 25.02049449 25.11724238 26.11136948 23.7736962  24.93025439\n",
      " 24.18973588 24.82209929 25.44613899]\n",
      "Player Efficiency in Order\n",
      "[1776 1553 1804 1782 1559  620  708 2343  523]\n"
     ]
    }
   ],
   "source": [
    "# Convert to arrays \n",
    "\n",
    "top10_height_array = np.array(top10_height)\n",
    "top10_weight_array = np.array(top10_weight)\n",
    "pts_array = np.array(pts)\n",
    "reb_array = np.array(reb)\n",
    "ast_array = np.array(ast)\n",
    "stl_array = np.array(stl)\n",
    "blk_array = np.array(blk)\n",
    "mfg_array = np.array(mfg)\n",
    "mft_array = np.array(mft)\n",
    "tov_array = np.array(tov)\n",
    "\n",
    "print(\"Players\")\n",
    "print([value for data in stats_data[\"Top 10 Highest Paid NBA Players\"]for key, value in data.items() if key==\"Name\"])\n",
    "print(\"\")\n",
    "\n",
    "# Convert pounds to kilograms \n",
    "top10_weight_kg = top10_weight_array * 0.454\n",
    "\n",
    "# Convert height from inches to cm \n",
    "top10_height_cm = top10_height_array * 2.54\n",
    "\n",
    "\n",
    "# Calculate BMI\n",
    "print(\"Imperial BMI in Order\")\n",
    "print(bmi_calculator(\"imperial\", top10_weight_array, top10_height_array))\n",
    "print(\"\")\n",
    "print(\"Metric BMI in Order\")\n",
    "print(bmi_calculator(\"metric\", top10_weight_kg, top10_height_cm))\n",
    "\n",
    "\n",
    "\n",
    "# Player efficiency \n",
    "top10_players_efficiency = pts_array + reb_array + ast_array + stl_array + blk_array - mfg_array - mft_array - tov_array\n",
    "print(\"Player Efficiency in Order\")\n",
    "print(top10_players_efficiency)"
   ]
  },
  {
   "cell_type": "code",
   "execution_count": null,
   "id": "960b6efd",
   "metadata": {},
   "outputs": [],
   "source": []
  }
 ],
 "metadata": {
  "kernelspec": {
   "display_name": "Python 3 (ipykernel)",
   "language": "python",
   "name": "python3"
  },
  "language_info": {
   "codemirror_mode": {
    "name": "ipython",
    "version": 3
   },
   "file_extension": ".py",
   "mimetype": "text/x-python",
   "name": "python",
   "nbconvert_exporter": "python",
   "pygments_lexer": "ipython3",
   "version": "3.11.5"
  }
 },
 "nbformat": 4,
 "nbformat_minor": 5
}
